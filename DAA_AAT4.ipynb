{
  "nbformat": 4,
  "nbformat_minor": 0,
  "metadata": {
    "colab": {
      "provenance": []
    },
    "kernelspec": {
      "name": "python3",
      "display_name": "Python 3"
    },
    "language_info": {
      "name": "python"
    }
  },
  "cells": [
    {
      "cell_type": "code",
      "execution_count": null,
      "metadata": {
        "id": "u9Ckd3QVkBKV"
      },
      "outputs": [],
      "source": [
        "import sys\n",
        "\n",
        "def stringConstruction(s):\n",
        "    return len(set(s))\n",
        "\n",
        "q = int(input().strip())\n",
        "for a in range(q):\n",
        "    s = input().strip()\n",
        "    result = stringConstruction(s)\n",
        "    print(result)"
      ]
    }
  ]
}