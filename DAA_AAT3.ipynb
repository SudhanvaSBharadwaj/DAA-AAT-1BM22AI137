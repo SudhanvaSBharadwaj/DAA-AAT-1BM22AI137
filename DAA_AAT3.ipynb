{
  "nbformat": 4,
  "nbformat_minor": 0,
  "metadata": {
    "colab": {
      "provenance": []
    },
    "kernelspec": {
      "name": "python3",
      "display_name": "Python 3"
    },
    "language_info": {
      "name": "python"
    }
  },
  "cells": [
    {
      "cell_type": "code",
      "execution_count": null,
      "metadata": {
        "id": "S8hv0zGajR10"
      },
      "outputs": [],
      "source": [
        "import os\n",
        "\n",
        "def quickSort(arr):\n",
        "    pivot = arr[0]\n",
        "    left = []\n",
        "    equal = []\n",
        "    right = []\n",
        "    for x in arr:\n",
        "        if x < pivot:\n",
        "            left.append(x)\n",
        "        elif x == pivot:\n",
        "            equal.append(x)\n",
        "        else:\n",
        "            right.append(x)\n",
        "    return left + equal + right\n",
        "\n",
        "fptr = open(os.environ['OUTPUT_PATH'], 'w')\n",
        "n = int(input().strip())\n",
        "arr = list(map(int, input().rstrip().split()))\n",
        "result = quickSort(arr)\n",
        "fptr.write(' '.join(map(str, result)))\n",
        "fptr.write('\\n')\n",
        "fptr.close()"
      ]
    }
  ]
}